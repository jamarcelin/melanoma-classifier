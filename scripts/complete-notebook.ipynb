{
 "cells": [
  {
   "cell_type": "code",
   "execution_count": 2,
   "metadata": {},
   "outputs": [],
   "source": [
    "import tensorflow as tf\n",
    "import matplotlib.pyplot as plt\n",
    "import numpy as np\n",
    "from keras.preprocessing import image\n",
    "import random\n",
    "import os\n",
    "from tensorflow.keras.preprocessing.image import ImageDataGenerator"
   ]
  },
  {
   "cell_type": "code",
   "execution_count": 3,
   "metadata": {},
   "outputs": [],
   "source": [
    "base_dir = '../data'\n",
    "\n",
    "train_dir = os.path.join(base_dir, 'train')\n",
    "train_benign_dir = os.path.join(train_dir, 'benign')\n",
    "train_malig_dir = os.path.join(train_dir, 'malignant')\n",
    "\n",
    "test_dir = os.path.join(base_dir, 'test')\n",
    "test_benign_dir = os.path.join(test_dir, 'benign')\n",
    "test_malignant_dir = os.path.join(test_dir, 'malignant')"
   ]
  },
  {
   "cell_type": "code",
   "execution_count": 4,
   "metadata": {},
   "outputs": [
    {
     "name": "stderr",
     "output_type": "stream",
     "text": [
      "2023-10-25 17:30:17.279863: I tensorflow/core/platform/cpu_feature_guard.cc:182] This TensorFlow binary is optimized to use available CPU instructions in performance-critical operations.\n",
      "To enable the following instructions: AVX2 AVX512F AVX512_VNNI FMA, in other operations, rebuild TensorFlow with the appropriate compiler flags.\n",
      "/Library/Frameworks/Python.framework/Versions/3.9/lib/python3.9/site-packages/scipy/__init__.py:146: UserWarning: A NumPy version >=1.16.5 and <1.23.0 is required for this version of SciPy (detected version 1.26.1\n",
      "  warnings.warn(f\"A NumPy version >={np_minversion} and <{np_maxversion}\"\n"
     ]
    }
   ],
   "source": [
    "image_dim = 100  # change as needed\n",
    "\n",
    "model = tf.keras.models.Sequential([\n",
    "    tf.keras.layers.Conv2D(32, (3,3), activation='relu', input_shape=(image_dim, image_dim, 3)),\n",
    "    tf.keras.layers.MaxPooling2D(2,2),\n",
    "    tf.keras.layers.Conv2D(64, (3,3), activation='relu'),\n",
    "    tf.keras.layers.MaxPooling2D(2,2), \n",
    "    tf.keras.layers.Conv2D(128, (3,3), activation='relu'), \n",
    "    tf.keras.layers.MaxPooling2D(2,2),\n",
    "    tf.keras.layers.Flatten(), \n",
    "    tf.keras.layers.Dense(128, activation='relu'), \n",
    "    tf.keras.layers.Dense(1, activation='sigmoid')  \n",
    "])"
   ]
  },
  {
   "cell_type": "code",
   "execution_count": 5,
   "metadata": {},
   "outputs": [],
   "source": [
    "model.compile(optimizer=\"adam\",\n",
    "              loss='binary_crossentropy',\n",
    "              metrics = ['accuracy'])"
   ]
  },
  {
   "cell_type": "code",
   "execution_count": 6,
   "metadata": {},
   "outputs": [
    {
     "name": "stdout",
     "output_type": "stream",
     "text": [
      "Found 2637 images belonging to 2 classes.\n",
      "Found 660 images belonging to 2 classes.\n"
     ]
    }
   ],
   "source": [
    "train_datagen = ImageDataGenerator(rescale = 1.0/255)\n",
    "train_generator = train_datagen.flow_from_directory(train_dir,\n",
    "                                                    batch_size=20,\n",
    "                                                    class_mode='binary',\n",
    "                                                    target_size=(image_dim, image_dim))\n",
    "\n",
    "test_datagen  = ImageDataGenerator(rescale = 1.0/255)\n",
    "test_generator =  test_datagen.flow_from_directory(test_dir,\n",
    "                                                    batch_size=20,\n",
    "                                                    class_mode='binary',\n",
    "                                                    target_size=(image_dim, image_dim))"
   ]
  },
  {
   "cell_type": "code",
   "execution_count": 1,
   "metadata": {},
   "outputs": [
    {
     "ename": "NameError",
     "evalue": "name 'model' is not defined",
     "output_type": "error",
     "traceback": [
      "\u001b[0;31m---------------------------------------------------------------------------\u001b[0m",
      "\u001b[0;31mNameError\u001b[0m                                 Traceback (most recent call last)",
      "\u001b[0;32m/var/folders/px/1qj6sxcs61jb318jt36g_hdm0000gn/T/ipykernel_24193/433860376.py\u001b[0m in \u001b[0;36m<module>\u001b[0;34m\u001b[0m\n\u001b[0;32m----> 1\u001b[0;31m history = model.fit(\n\u001b[0m\u001b[1;32m      2\u001b[0m             \u001b[0mtrain_generator\u001b[0m\u001b[0;34m,\u001b[0m \u001b[0;31m# pass in the training generator\u001b[0m\u001b[0;34m\u001b[0m\u001b[0;34m\u001b[0m\u001b[0m\n\u001b[1;32m      3\u001b[0m             \u001b[0msteps_per_epoch\u001b[0m\u001b[0;34m=\u001b[0m\u001b[0;36m40\u001b[0m\u001b[0;34m,\u001b[0m\u001b[0;34m\u001b[0m\u001b[0;34m\u001b[0m\u001b[0m\n\u001b[1;32m      4\u001b[0m             \u001b[0mepochs\u001b[0m\u001b[0;34m=\u001b[0m\u001b[0;36m50\u001b[0m\u001b[0;34m,\u001b[0m\u001b[0;34m\u001b[0m\u001b[0;34m\u001b[0m\u001b[0m\n\u001b[1;32m      5\u001b[0m             \u001b[0mvalidation_data\u001b[0m\u001b[0;34m=\u001b[0m\u001b[0mtest_generator\u001b[0m\u001b[0;34m,\u001b[0m \u001b[0;31m# pass in the validation generator\u001b[0m\u001b[0;34m\u001b[0m\u001b[0;34m\u001b[0m\u001b[0m\n",
      "\u001b[0;31mNameError\u001b[0m: name 'model' is not defined"
     ]
    }
   ],
   "source": [
    "history = model.fit(\n",
    "            train_generator, # pass in the training generator\n",
    "            steps_per_epoch=40,\n",
    "            epochs=50,\n",
    "            validation_data=test_generator, # pass in the validation generator\n",
    "            validation_steps=20,\n",
    "            verbose=1\n",
    "            )"
   ]
  },
  {
   "cell_type": "code",
   "execution_count": 89,
   "metadata": {},
   "outputs": [
    {
     "name": "stdout",
     "output_type": "stream",
     "text": [
      "dict_keys(['loss', 'accuracy', 'val_loss', 'val_accuracy'])\n"
     ]
    },
    {
     "data": {
      "text/plain": [
       "Text(0.5, 1.0, 'Loss in training and validation')"
      ]
     },
     "execution_count": 89,
     "metadata": {},
     "output_type": "execute_result"
    },
    {
     "data": {
      "image/png": "[encoded data removed]",
      "text/plain": [
       "<Figure size 432x288 with 1 Axes>"
      ]
     },
     "metadata": {
      "needs_background": "light"
     },
     "output_type": "display_data"
    },
    {
     "data": {
      "image/png": "[encoded data removed]",
      "text/plain": [
       "<Figure size 432x288 with 1 Axes>"
      ]
     },
     "metadata": {
      "needs_background": "light"
     },
     "output_type": "display_data"
    }
   ],
   "source": [
    "# get the metrics from history\n",
    "acc = history.history['accuracy']\n",
    "val_acc = history.history['val_accuracy']\n",
    "loss = history.history['loss']\n",
    "val_loss = history.history['val_loss']\n",
    "\n",
    "epochs = range(len(acc)) \n",
    "\n",
    "# plot accuracy with matplotlib\n",
    "plt.plot(epochs, acc)\n",
    "plt.plot(epochs, val_acc)\n",
    "plt.title('Accuracy in training and validation')\n",
    "plt.figure()\n",
    "\n",
    "# plot loss with matplotlib\n",
    "plt.plot(epochs, loss)\n",
    "plt.plot(epochs, val_loss)\n",
    "plt.title('Loss in training and validation')"
   ]
  },
  {
   "cell_type": "code",
   "execution_count": 90,
   "metadata": {},
   "outputs": [],
   "source": [
    "# Filepath must end in '/' and contain benign and malignant directories\n",
    "# Returns a list of n tuples, [(filename, correct_label)...]\n",
    "# Possible tweak: change filepath instead of returning error?\n",
    "def random_images(filepath, n):  \n",
    "    if filepath[-1] != '/':\n",
    "        print(\"ERROR: Filepath does not end in '/'.\")\n",
    "        return\n",
    "    benign_n = random.randint(0, n)\n",
    "    malig_n = n - benign_n\n",
    "    benign_dir, malig_dir = os.listdir(filepath + \"benign/\"), os.listdir(filepath + \"malignant/\")\n",
    "    benign_files, malig_files = random.sample(benign_dir, benign_n), random.sample(malig_dir, malig_n)\n",
    "    output = [(\"benign/\" + filename, \"benign\") for filename in benign_files]\n",
    "    output += [(\"malignant/\" + filename, \"malignant\") for filename in malig_files]\n",
    "    random.shuffle(output)\n",
    "    return output\n",
    "    "
   ]
  },
  {
   "cell_type": "code",
   "execution_count": 91,
   "metadata": {},
   "outputs": [
    {
     "name": "stdout",
     "output_type": "stream",
     "text": [
      "Image 0: Predicted benign, is actually benign\n",
      "Image 1: Predicted benign, is actually benign\n",
      "Image 2: Predicted malignant, is actually malignant\n",
      "Image 3: Predicted malignant, is actually malignant\n",
      "Image 4: Predicted benign, is actually malignant\n",
      "Image 5: Predicted benign, is actually benign\n",
      "Image 6: Predicted benign, is actually benign\n",
      "Image 7: Predicted malignant, is actually benign\n",
      "Image 8: Predicted benign, is actually benign\n",
      "Image 9: Predicted benign, is actually benign\n",
      "Image 10: Predicted benign, is actually benign\n",
      "Image 11: Predicted benign, is actually benign\n",
      "Image 12: Predicted benign, is actually benign\n",
      "Image 13: Predicted benign, is actually benign\n",
      "Image 14: Predicted malignant, is actually benign\n",
      "Image 15: Predicted benign, is actually benign\n",
      "Image 16: Predicted benign, is actually benign\n",
      "Image 17: Predicted benign, is actually benign\n",
      "Image 18: Predicted benign, is actually benign\n",
      "Image 19: Predicted malignant, is actually malignant\n",
      "Image 20: Predicted benign, is actually benign\n",
      "Image 21: Predicted malignant, is actually benign\n",
      "Image 22: Predicted benign, is actually benign\n",
      "Image 23: Predicted benign, is actually benign\n",
      "Image 24: Predicted malignant, is actually benign\n",
      "Image 25: Predicted benign, is actually benign\n",
      "Image 26: Predicted benign, is actually benign\n",
      "Image 27: Predicted benign, is actually benign\n",
      "Image 28: Predicted benign, is actually benign\n",
      "Image 29: Predicted benign, is actually benign\n",
      "Image 30: Predicted benign, is actually benign\n",
      "Image 31: Predicted benign, is actually benign\n",
      "Image 32: Predicted malignant, is actually benign\n",
      "Image 33: Predicted benign, is actually benign\n",
      "Image 34: Predicted benign, is actually benign\n",
      "Image 35: Predicted malignant, is actually malignant\n",
      "Image 36: Predicted malignant, is actually malignant\n",
      "Image 37: Predicted benign, is actually benign\n",
      "Image 38: Predicted benign, is actually benign\n",
      "Image 39: Predicted benign, is actually benign\n",
      "Image 40: Predicted benign, is actually benign\n",
      "Image 41: Predicted benign, is actually benign\n",
      "Image 42: Predicted benign, is actually benign\n",
      "Image 43: Predicted benign, is actually benign\n",
      "Image 44: Predicted malignant, is actually malignant\n",
      "Image 45: Predicted benign, is actually benign\n",
      "Image 46: Predicted benign, is actually benign\n",
      "Image 47: Predicted benign, is actually benign\n",
      "Image 48: Predicted benign, is actually benign\n",
      "Image 49: Predicted benign, is actually benign\n",
      "Image 50: Predicted benign, is actually benign\n",
      "Image 51: Predicted malignant, is actually benign\n",
      "Image 52: Predicted benign, is actually benign\n",
      "Image 53: Predicted benign, is actually benign\n",
      "Image 54: Predicted benign, is actually benign\n",
      "Image 55: Predicted malignant, is actually benign\n",
      "Image 56: Predicted benign, is actually benign\n",
      "Image 57: Predicted malignant, is actually malignant\n",
      "Image 58: Predicted malignant, is actually malignant\n",
      "Image 59: Predicted benign, is actually benign\n",
      "Image 60: Predicted benign, is actually benign\n",
      "Image 61: Predicted benign, is actually malignant\n",
      "Image 62: Predicted malignant, is actually malignant\n",
      "Image 63: Predicted benign, is actually benign\n",
      "Image 64: Predicted malignant, is actually benign\n",
      "Image 65: Predicted benign, is actually benign\n",
      "Image 66: Predicted benign, is actually benign\n",
      "Image 67: Predicted benign, is actually benign\n",
      "Image 68: Predicted malignant, is actually malignant\n",
      "Image 69: Predicted malignant, is actually malignant\n",
      "Image 70: Predicted malignant, is actually malignant\n",
      "Image 71: Predicted benign, is actually benign\n",
      "Image 72: Predicted malignant, is actually malignant\n",
      "Image 73: Predicted benign, is actually benign\n",
      "Image 74: Predicted malignant, is actually malignant\n",
      "Image 75: Predicted benign, is actually benign\n",
      "Image 76: Predicted benign, is actually benign\n",
      "Image 77: Predicted malignant, is actually benign\n",
      "Image 78: Predicted benign, is actually benign\n",
      "Image 79: Predicted benign, is actually benign\n",
      "Image 80: Predicted benign, is actually benign\n",
      "Image 81: Predicted benign, is actually malignant\n",
      "Image 82: Predicted malignant, is actually malignant\n",
      "Image 83: Predicted benign, is actually benign\n",
      "Image 84: Predicted benign, is actually benign\n",
      "Image 85: Predicted benign, is actually benign\n",
      "Image 86: Predicted benign, is actually benign\n",
      "Image 87: Predicted malignant, is actually malignant\n",
      "Image 88: Predicted benign, is actually benign\n",
      "Image 89: Predicted benign, is actually benign\n",
      "Image 90: Predicted malignant, is actually benign\n",
      "Image 91: Predicted malignant, is actually benign\n",
      "Image 92: Predicted benign, is actually benign\n",
      "Image 93: Predicted benign, is actually benign\n",
      "Image 94: Predicted malignant, is actually benign\n",
      "Image 95: Predicted benign, is actually benign\n",
      "Image 96: Predicted benign, is actually benign\n",
      "Image 97: Predicted malignant, is actually benign\n",
      "Image 98: Predicted malignant, is actually malignant\n",
      "Image 99: Predicted malignant, is actually malignant\n",
      "Image 100: Predicted benign, is actually benign\n",
      "Image 101: Predicted malignant, is actually benign\n",
      "Image 102: Predicted benign, is actually benign\n",
      "Image 103: Predicted benign, is actually benign\n",
      "Image 104: Predicted benign, is actually benign\n",
      "Image 105: Predicted benign, is actually benign\n",
      "Image 106: Predicted benign, is actually benign\n",
      "Image 107: Predicted benign, is actually benign\n",
      "Image 108: Predicted benign, is actually benign\n",
      "Image 109: Predicted benign, is actually benign\n",
      "Image 110: Predicted benign, is actually benign\n",
      "Image 111: Predicted malignant, is actually benign\n",
      "Image 112: Predicted benign, is actually benign\n",
      "Image 113: Predicted benign, is actually benign\n",
      "Image 114: Predicted benign, is actually benign\n",
      "Image 115: Predicted benign, is actually benign\n",
      "Image 116: Predicted benign, is actually malignant\n",
      "Image 117: Predicted malignant, is actually malignant\n",
      "Image 118: Predicted benign, is actually benign\n",
      "Image 119: Predicted benign, is actually benign\n",
      "Image 120: Predicted benign, is actually benign\n",
      "Image 121: Predicted malignant, is actually benign\n",
      "Image 122: Predicted benign, is actually benign\n",
      "Image 123: Predicted malignant, is actually malignant\n",
      "Image 124: Predicted benign, is actually benign\n",
      "Image 125: Predicted benign, is actually benign\n",
      "Image 126: Predicted malignant, is actually malignant\n",
      "Image 127: Predicted benign, is actually benign\n",
      "Image 128: Predicted benign, is actually benign\n",
      "Image 129: Predicted malignant, is actually malignant\n",
      "Image 130: Predicted benign, is actually benign\n",
      "Image 131: Predicted benign, is actually benign\n",
      "Image 132: Predicted malignant, is actually benign\n",
      "Image 133: Predicted benign, is actually benign\n",
      "Image 134: Predicted benign, is actually benign\n",
      "Image 135: Predicted benign, is actually benign\n",
      "Image 136: Predicted benign, is actually benign\n",
      "Image 137: Predicted benign, is actually benign\n",
      "Image 138: Predicted benign, is actually benign\n",
      "Image 139: Predicted benign, is actually malignant\n",
      "Image 140: Predicted benign, is actually benign\n",
      "Image 141: Predicted benign, is actually benign\n",
      "Image 142: Predicted malignant, is actually malignant\n",
      "Image 143: Predicted malignant, is actually malignant\n",
      "Image 144: Predicted benign, is actually benign\n",
      "Image 145: Predicted malignant, is actually benign\n",
      "Image 146: Predicted benign, is actually benign\n",
      "Image 147: Predicted benign, is actually benign\n",
      "Image 148: Predicted malignant, is actually malignant\n",
      "Image 149: Predicted benign, is actually benign\n",
      "Image 150: Predicted benign, is actually benign\n",
      "Image 151: Predicted benign, is actually benign\n",
      "Image 152: Predicted malignant, is actually malignant\n",
      "Image 153: Predicted benign, is actually benign\n",
      "Image 154: Predicted benign, is actually benign\n",
      "Image 155: Predicted benign, is actually benign\n",
      "Image 156: Predicted benign, is actually benign\n",
      "Image 157: Predicted benign, is actually benign\n",
      "Image 158: Predicted malignant, is actually malignant\n",
      "Image 159: Predicted benign, is actually benign\n",
      "Image 160: Predicted malignant, is actually benign\n",
      "Image 161: Predicted benign, is actually benign\n",
      "Image 162: Predicted benign, is actually benign\n",
      "Image 163: Predicted benign, is actually benign\n",
      "Image 164: Predicted benign, is actually benign\n",
      "Image 165: Predicted malignant, is actually malignant\n",
      "Image 166: Predicted benign, is actually benign\n",
      "Image 167: Predicted malignant, is actually malignant\n",
      "Image 168: Predicted benign, is actually benign\n",
      "Image 169: Predicted benign, is actually benign\n",
      "Image 170: Predicted benign, is actually benign\n",
      "Image 171: Predicted benign, is actually benign\n",
      "Image 172: Predicted benign, is actually benign\n",
      "Image 173: Predicted benign, is actually benign\n",
      "Image 174: Predicted malignant, is actually benign\n",
      "Image 175: Predicted benign, is actually benign\n",
      "Image 176: Predicted benign, is actually benign\n",
      "Image 177: Predicted benign, is actually benign\n",
      "Image 178: Predicted benign, is actually benign\n",
      "Image 179: Predicted benign, is actually benign\n",
      "Image 180: Predicted benign, is actually benign\n",
      "Image 181: Predicted benign, is actually benign\n",
      "Image 182: Predicted benign, is actually benign\n",
      "Image 183: Predicted benign, is actually benign\n",
      "Image 184: Predicted benign, is actually benign\n",
      "Image 185: Predicted malignant, is actually malignant\n",
      "Image 186: Predicted benign, is actually benign\n",
      "Image 187: Predicted malignant, is actually malignant\n",
      "Image 188: Predicted malignant, is actually benign\n",
      "Image 189: Predicted benign, is actually benign\n",
      "Image 190: Predicted malignant, is actually malignant\n",
      "Image 191: Predicted benign, is actually benign\n",
      "Image 192: Predicted benign, is actually benign\n",
      "Image 193: Predicted benign, is actually malignant\n",
      "Image 194: Predicted benign, is actually benign\n",
      "Image 195: Predicted malignant, is actually benign\n",
      "Image 196: Predicted benign, is actually benign\n",
      "Image 197: Predicted benign, is actually benign\n",
      "Image 198: Predicted malignant, is actually benign\n",
      "Image 199: Predicted benign, is actually benign\n",
      "Rate of accuracy: 0.855\n"
     ]
    }
   ],
   "source": [
    "filepath = \"../data/test/\"\n",
    "class_labels = ['benign', 'malignant']\n",
    "n = 200\n",
    "total_ct = 0\n",
    "accurate_ct = 0.0\n",
    "\n",
    "images = random_images(filepath, n)\n",
    "\n",
    "for file_tuple in images:\n",
    "    filename, correct_label = file_tuple[0], file_tuple[1]\n",
    "    img_path = os.path.join(filepath, filename)\n",
    "    img = image.load_img(img_path, target_size=(image_dim, image_dim))\n",
    "    x = image.img_to_array(img) / 255 \n",
    "    x = np.expand_dims(x, axis=0)\n",
    "    images = np.vstack([x])\n",
    "\n",
    "    classes = model.predict(images, batch_size=10, verbose=0)\n",
    "    prediction = \"\"\n",
    "    if classes[0] < 0.5:\n",
    "        prediction = \"benign\"\n",
    "    else:\n",
    "        prediction = \"malignant\"\n",
    "\n",
    "    if prediction == correct_label:\n",
    "        accurate_ct += 1\n",
    "\n",
    "    print(\"Image \" + str(total_ct) + \": Predicted \" + prediction + \", is actually \" + correct_label)\n",
    "    total_ct += 1\n",
    "\n",
    "print(\"Rate of accuracy:\", accurate_ct / n)\n"
   ]
  }
 ],
 "metadata": {
  "kernelspec": {
   "display_name": "Python 3",
   "language": "python",
   "name": "python3"
  },
  "language_info": {
   "codemirror_mode": {
    "name": "ipython",
    "version": 3
   },
   "file_extension": ".py",
   "mimetype": "text/x-python",
   "name": "python",
   "nbconvert_exporter": "python",
   "pygments_lexer": "ipython3",
   "version": "3.9.2"
  }
 },
 "nbformat": 4,
 "nbformat_minor": 2
}
